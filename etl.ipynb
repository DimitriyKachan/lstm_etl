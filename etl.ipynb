{
 "cells": [
  {
   "cell_type": "code",
   "execution_count": 39,
   "metadata": {},
   "outputs": [],
   "source": [
    "import pandas as pd\n",
    "import numpy as np\n",
    "import seaborn as sbs\n",
    "import matplotlib.pyplot as plt\n",
    "from datetime import datetime, timedelta\n",
    "import requests\n",
    "import json"
   ]
  },
  {
   "cell_type": "code",
   "execution_count": 43,
   "metadata": {},
   "outputs": [],
   "source": [
    "apikey = json.load(open('alphavantage_key.json'))[\"key\"]"
   ]
  },
  {
   "cell_type": "code",
   "execution_count": 2,
   "metadata": {},
   "outputs": [],
   "source": [
    "df_tickers = pd.read_excel('tickers/tickers_only.xlsx')"
   ]
  },
  {
   "cell_type": "code",
   "execution_count": 6,
   "metadata": {},
   "outputs": [],
   "source": [
    "apple = yf.Ticker(df_tickers['Ticker'].values[1])"
   ]
  },
  {
   "cell_type": "code",
   "execution_count": 7,
   "metadata": {},
   "outputs": [],
   "source": [
    "apple_history = apple.history(start='2000-01-01', end='2024-01-26')"
   ]
  },
  {
   "cell_type": "code",
   "execution_count": 26,
   "metadata": {},
   "outputs": [],
   "source": [
    "apple_history['Date'] = apple_history.index"
   ]
  },
  {
   "cell_type": "code",
   "execution_count": 100,
   "metadata": {},
   "outputs": [],
   "source": [
    "apple_history.to_csv('apple_history.csv', index=False)"
   ]
  },
  {
   "cell_type": "code",
   "execution_count": 96,
   "metadata": {},
   "outputs": [],
   "source": [
    "def extract(ticker:str, start_date:str):\n",
    "    current_date = datetime.now().strftime('%Y-%m-%d')\n",
    "    yf_ticker = yf.Ticker(ticker)\n",
    "    history = yf_ticker.history(start = start_date, end = current_date)\n",
    "    history['Date']=history.index\n",
    "    return history"
   ]
  },
  {
   "cell_type": "code",
   "execution_count": 97,
   "metadata": {},
   "outputs": [],
   "source": [
    "def load(filename: str, ticker: str):\n",
    "    saved_df = pd.read_csv(filename)\n",
    "    last_date = datetime.strptime(saved_df['Date'].values[-1][:10], \"%Y-%m-%d\")\n",
    "    needed_date = (last_date + timedelta(days=1)).strftime('%Y-%m-%d')\n",
    "    update_df = extract(ticker, needed_date)\n",
    "    updated_df = pd.concat([saved_df, update_df], axis=0)\n",
    "    updated_df = updated_df.reset_index()\n",
    "    updated_df = updated_df.drop('index', axis=1)\n",
    "    updated_df.to_csv(filename, index=False)\n",
    "    return updated_df"
   ]
  },
  {
   "cell_type": "code",
   "execution_count": 94,
   "metadata": {},
   "outputs": [
    {
     "name": "stdout",
     "output_type": "stream",
     "text": [
      "2024-01-25 00:00:00-05:00\n"
     ]
    },
    {
     "data": {
      "text/html": [
       "<div>\n",
       "<style scoped>\n",
       "    .dataframe tbody tr th:only-of-type {\n",
       "        vertical-align: middle;\n",
       "    }\n",
       "\n",
       "    .dataframe tbody tr th {\n",
       "        vertical-align: top;\n",
       "    }\n",
       "\n",
       "    .dataframe thead th {\n",
       "        text-align: right;\n",
       "    }\n",
       "</style>\n",
       "<table border=\"1\" class=\"dataframe\">\n",
       "  <thead>\n",
       "    <tr style=\"text-align: right;\">\n",
       "      <th></th>\n",
       "      <th>Open</th>\n",
       "      <th>High</th>\n",
       "      <th>Low</th>\n",
       "      <th>Close</th>\n",
       "      <th>Volume</th>\n",
       "      <th>Dividends</th>\n",
       "      <th>Stock Splits</th>\n",
       "      <th>Date</th>\n",
       "    </tr>\n",
       "  </thead>\n",
       "  <tbody>\n",
       "    <tr>\n",
       "      <th>0</th>\n",
       "      <td>0.793754</td>\n",
       "      <td>0.851464</td>\n",
       "      <td>0.769629</td>\n",
       "      <td>0.847207</td>\n",
       "      <td>535796800</td>\n",
       "      <td>0.0</td>\n",
       "      <td>0.0</td>\n",
       "      <td>2000-01-03 00:00:00-05:00</td>\n",
       "    </tr>\n",
       "    <tr>\n",
       "      <th>1</th>\n",
       "      <td>0.819298</td>\n",
       "      <td>0.837273</td>\n",
       "      <td>0.765845</td>\n",
       "      <td>0.775779</td>\n",
       "      <td>512377600</td>\n",
       "      <td>0.0</td>\n",
       "      <td>0.0</td>\n",
       "      <td>2000-01-04 00:00:00-05:00</td>\n",
       "    </tr>\n",
       "    <tr>\n",
       "      <th>2</th>\n",
       "      <td>0.785239</td>\n",
       "      <td>0.836800</td>\n",
       "      <td>0.779563</td>\n",
       "      <td>0.787131</td>\n",
       "      <td>778321600</td>\n",
       "      <td>0.0</td>\n",
       "      <td>0.0</td>\n",
       "      <td>2000-01-05 00:00:00-05:00</td>\n",
       "    </tr>\n",
       "    <tr>\n",
       "      <th>3</th>\n",
       "      <td>0.803215</td>\n",
       "      <td>0.809837</td>\n",
       "      <td>0.719014</td>\n",
       "      <td>0.719014</td>\n",
       "      <td>767972800</td>\n",
       "      <td>0.0</td>\n",
       "      <td>0.0</td>\n",
       "      <td>2000-01-06 00:00:00-05:00</td>\n",
       "    </tr>\n",
       "    <tr>\n",
       "      <th>4</th>\n",
       "      <td>0.730367</td>\n",
       "      <td>0.764426</td>\n",
       "      <td>0.722799</td>\n",
       "      <td>0.753073</td>\n",
       "      <td>460734400</td>\n",
       "      <td>0.0</td>\n",
       "      <td>0.0</td>\n",
       "      <td>2000-01-07 00:00:00-05:00</td>\n",
       "    </tr>\n",
       "    <tr>\n",
       "      <th>...</th>\n",
       "      <td>...</td>\n",
       "      <td>...</td>\n",
       "      <td>...</td>\n",
       "      <td>...</td>\n",
       "      <td>...</td>\n",
       "      <td>...</td>\n",
       "      <td>...</td>\n",
       "      <td>...</td>\n",
       "    </tr>\n",
       "    <tr>\n",
       "      <th>6050</th>\n",
       "      <td>192.300003</td>\n",
       "      <td>195.330002</td>\n",
       "      <td>192.259995</td>\n",
       "      <td>193.889999</td>\n",
       "      <td>60133900</td>\n",
       "      <td>0.0</td>\n",
       "      <td>0.0</td>\n",
       "      <td>2024-01-22 00:00:00-05:00</td>\n",
       "    </tr>\n",
       "    <tr>\n",
       "      <th>6051</th>\n",
       "      <td>195.020004</td>\n",
       "      <td>195.750000</td>\n",
       "      <td>193.830002</td>\n",
       "      <td>195.179993</td>\n",
       "      <td>42355600</td>\n",
       "      <td>0.0</td>\n",
       "      <td>0.0</td>\n",
       "      <td>2024-01-23 00:00:00-05:00</td>\n",
       "    </tr>\n",
       "    <tr>\n",
       "      <th>6052</th>\n",
       "      <td>195.419998</td>\n",
       "      <td>196.380005</td>\n",
       "      <td>194.339996</td>\n",
       "      <td>194.500000</td>\n",
       "      <td>53631300</td>\n",
       "      <td>0.0</td>\n",
       "      <td>0.0</td>\n",
       "      <td>2024-01-24 00:00:00-05:00</td>\n",
       "    </tr>\n",
       "    <tr>\n",
       "      <th>6053</th>\n",
       "      <td>195.220001</td>\n",
       "      <td>196.270004</td>\n",
       "      <td>193.110001</td>\n",
       "      <td>194.169998</td>\n",
       "      <td>54822100</td>\n",
       "      <td>0.0</td>\n",
       "      <td>0.0</td>\n",
       "      <td>2024-01-25 00:00:00-05:00</td>\n",
       "    </tr>\n",
       "    <tr>\n",
       "      <th>6054</th>\n",
       "      <td>194.270004</td>\n",
       "      <td>194.759995</td>\n",
       "      <td>191.940002</td>\n",
       "      <td>192.419998</td>\n",
       "      <td>44553400</td>\n",
       "      <td>0.0</td>\n",
       "      <td>0.0</td>\n",
       "      <td>2024-01-26 00:00:00-05:00</td>\n",
       "    </tr>\n",
       "  </tbody>\n",
       "</table>\n",
       "<p>6055 rows × 8 columns</p>\n",
       "</div>"
      ],
      "text/plain": [
       "            Open        High         Low       Close     Volume  Dividends  \\\n",
       "0       0.793754    0.851464    0.769629    0.847207  535796800        0.0   \n",
       "1       0.819298    0.837273    0.765845    0.775779  512377600        0.0   \n",
       "2       0.785239    0.836800    0.779563    0.787131  778321600        0.0   \n",
       "3       0.803215    0.809837    0.719014    0.719014  767972800        0.0   \n",
       "4       0.730367    0.764426    0.722799    0.753073  460734400        0.0   \n",
       "...          ...         ...         ...         ...        ...        ...   \n",
       "6050  192.300003  195.330002  192.259995  193.889999   60133900        0.0   \n",
       "6051  195.020004  195.750000  193.830002  195.179993   42355600        0.0   \n",
       "6052  195.419998  196.380005  194.339996  194.500000   53631300        0.0   \n",
       "6053  195.220001  196.270004  193.110001  194.169998   54822100        0.0   \n",
       "6054  194.270004  194.759995  191.940002  192.419998   44553400        0.0   \n",
       "\n",
       "      Stock Splits                       Date  \n",
       "0              0.0  2000-01-03 00:00:00-05:00  \n",
       "1              0.0  2000-01-04 00:00:00-05:00  \n",
       "2              0.0  2000-01-05 00:00:00-05:00  \n",
       "3              0.0  2000-01-06 00:00:00-05:00  \n",
       "4              0.0  2000-01-07 00:00:00-05:00  \n",
       "...            ...                        ...  \n",
       "6050           0.0  2024-01-22 00:00:00-05:00  \n",
       "6051           0.0  2024-01-23 00:00:00-05:00  \n",
       "6052           0.0  2024-01-24 00:00:00-05:00  \n",
       "6053           0.0  2024-01-25 00:00:00-05:00  \n",
       "6054           0.0  2024-01-26 00:00:00-05:00  \n",
       "\n",
       "[6055 rows x 8 columns]"
      ]
     },
     "execution_count": 94,
     "metadata": {},
     "output_type": "execute_result"
    }
   ],
   "source": [
    "load('apple_history.csv', df_tickers['Ticker'].values[1])"
   ]
  },
  {
   "cell_type": "code",
   "execution_count": 1,
   "metadata": {},
   "outputs": [],
   "source": [
    "import tensorflow as tf"
   ]
  },
  {
   "cell_type": "code",
   "execution_count": 2,
   "metadata": {},
   "outputs": [
    {
     "name": "stdout",
     "output_type": "stream",
     "text": [
      "Tensorflow Version: 2.10.0\n",
      "Num GPUs: 2\n"
     ]
    }
   ],
   "source": [
    "print('Tensorflow Version: ' + tf.__version__)\n",
    "physical_devices = tf.config.list_physical_devices('GPU')\n",
    "print(\"Num GPUs:\", len(physical_devices))"
   ]
  },
  {
   "cell_type": "code",
   "execution_count": null,
   "metadata": {},
   "outputs": [],
   "source": [
    "def build_model():\n",
    "    model = tf.keras.model.Sequential()\n",
    "    return model"
   ]
  },
  {
   "cell_type": "code",
   "execution_count": 16,
   "metadata": {},
   "outputs": [],
   "source": [
    "import psycopg2\n",
    "from psycopg2 import sql"
   ]
  },
  {
   "cell_type": "code",
   "execution_count": 28,
   "metadata": {},
   "outputs": [],
   "source": [
    "conn = psycopg2.connect(\n",
    "    host='localhost',\n",
    "    database='stocks',\n",
    "    port=5432,\n",
    "    user='job_bot',\n",
    "    password='very_secret_password'\n",
    ")"
   ]
  },
  {
   "cell_type": "code",
   "execution_count": 24,
   "metadata": {},
   "outputs": [],
   "source": [
    "df1 = pd.read_csv('tickers/tickers_for_db.csv')"
   ]
  },
  {
   "cell_type": "code",
   "execution_count": 25,
   "metadata": {},
   "outputs": [],
   "source": [
    "df1['ticker_id']=df1.index"
   ]
  },
  {
   "cell_type": "code",
   "execution_count": 64,
   "metadata": {},
   "outputs": [],
   "source": [
    "def insert_tickers(conn, df1):\n",
    "    with conn.cursor() as cursor:\n",
    "        conn.autocommit = True\n",
    "        tuples = [tuple(x) for x in df1.to_numpy()]\n",
    "        cols = ','.join(df1.columns)\n",
    "        query  = \"INSERT INTO %s(%s) VALUES(%%s,%%s)\" % ('public.\"Tickers\"', cols)\n",
    "        cursor.executemany(query, tuples)\n",
    "\n",
    "def insert_companies(conn, apikey):\n",
    "    with conn.cursor() as cursor:\n",
    "        cursor.execute('SELECT * FROM public.\"Tickers\" ORDER BY ticker_id ASC')\n",
    "        for row in cursor:\n",
    "            idx = row[0]\n",
    "            ticker = row[1]\n",
    "            url = 'https://www.alphavantage.co/query?function=OVERVIEW&symbol='+ticker+'&apikey='+apikey\n",
    "            r = requests.get(url)\n",
    "            data = r.json()\n",
    "            cols1 = ['AssetType', 'Name', 'Description', 'Exchange', 'Currency', 'Country', 'Sector', 'Industry']\n",
    "            cols1_db = ['asset_type', 'name', 'description', 'exchange', 'currency', 'country', 'sector', 'industry', 'company_id', 'symbol_id', ]\n",
    "            cols2_db = ['company_num_id', 'company_id', 'div_per_share', 'div_Yield', '52_week_high', '52_week_low', '50_day_mov_avg', '200_day_mov_avg', 'div_date', 'ex_div_date']\n",
    "            print(data)\n",
    "            tuple1 = tuple([data[x] for x in cols1].append[idx, idx])\n",
    "            #tuple2 = tuple(idx, idx, data[cols2[2:]])\n"
   ]
  },
  {
   "cell_type": "code",
   "execution_count": 11,
   "metadata": {},
   "outputs": [],
   "source": [
    "conn.close()"
   ]
  },
  {
   "cell_type": "code",
   "execution_count": 22,
   "metadata": {},
   "outputs": [],
   "source": [
    "tuples = [tuple(x) for x in df1.to_numpy()]"
   ]
  },
  {
   "cell_type": "code",
   "execution_count": 30,
   "metadata": {},
   "outputs": [
    {
     "data": {
      "text/plain": [
       "[('APPL', 0),\n",
       " ('AMZN', 1),\n",
       " ('MSFT', 2),\n",
       " ('NVDA', 3),\n",
       " ('GOOGL', 4),\n",
       " ('NFLX', 5),\n",
       " ('AMD', 6),\n",
       " ('META', 7),\n",
       " ('TSLA', 8),\n",
       " ('MCD', 9),\n",
       " ('VOD', 10),\n",
       " ('INTC', 11),\n",
       " ('CSCO', 12),\n",
       " ('IBM', 13),\n",
       " ('QCOM', 14),\n",
       " ('TSM', 15),\n",
       " ('MU', 16),\n",
       " ('SMCI', 17),\n",
       " ('NKE', 18),\n",
       " ('SBUX', 19),\n",
       " ('V', 20),\n",
       " ('DIS', 21),\n",
       " ('WMT', 22),\n",
       " ('COST', 23),\n",
       " ('CROX', 24),\n",
       " ('SKX', 25),\n",
       " ('ADDYY', 26),\n",
       " ('GPS', 27),\n",
       " ('GES', 28),\n",
       " ('MUFG', 29),\n",
       " ('SZKMY', 30),\n",
       " ('RNLSY', 31),\n",
       " ('ISUZY', 32),\n",
       " ('MZDAF', 33),\n",
       " ('NSANF', 34)]"
      ]
     },
     "execution_count": 30,
     "metadata": {},
     "output_type": "execute_result"
    }
   ],
   "source": [
    "tuples"
   ]
  },
  {
   "cell_type": "code",
   "execution_count": 65,
   "metadata": {},
   "outputs": [
    {
     "name": "stdout",
     "output_type": "stream",
     "text": [
      "{'Information': 'Thank you for using Alpha Vantage! Our standard API rate limit is 25 requests per day. Please subscribe to any of the premium plans at https://www.alphavantage.co/premium/ to instantly remove all daily rate limits.'}\n"
     ]
    },
    {
     "ename": "KeyError",
     "evalue": "'AssetType'",
     "output_type": "error",
     "traceback": [
      "\u001b[1;31m---------------------------------------------------------------------------\u001b[0m",
      "\u001b[1;31mKeyError\u001b[0m                                  Traceback (most recent call last)",
      "\u001b[1;32me:\\Projects\\Pet projects\\lstm_etl\\etl.ipynb Cell 22\u001b[0m line \u001b[0;36m1\n\u001b[1;32m----> <a href='vscode-notebook-cell:/e%3A/Projects/Pet%20projects/lstm_etl/etl.ipynb#X31sZmlsZQ%3D%3D?line=0'>1</a>\u001b[0m insert_companies(conn, apikey)\n",
      "\u001b[1;32me:\\Projects\\Pet projects\\lstm_etl\\etl.ipynb Cell 22\u001b[0m line \u001b[0;36m2\n\u001b[0;32m     <a href='vscode-notebook-cell:/e%3A/Projects/Pet%20projects/lstm_etl/etl.ipynb#X31sZmlsZQ%3D%3D?line=19'>20</a>\u001b[0m cols2_db \u001b[39m=\u001b[39m [\u001b[39m'\u001b[39m\u001b[39mcompany_num_id\u001b[39m\u001b[39m'\u001b[39m, \u001b[39m'\u001b[39m\u001b[39mcompany_id\u001b[39m\u001b[39m'\u001b[39m, \u001b[39m'\u001b[39m\u001b[39mdiv_per_share\u001b[39m\u001b[39m'\u001b[39m, \u001b[39m'\u001b[39m\u001b[39mdiv_Yield\u001b[39m\u001b[39m'\u001b[39m, \u001b[39m'\u001b[39m\u001b[39m52_week_high\u001b[39m\u001b[39m'\u001b[39m, \u001b[39m'\u001b[39m\u001b[39m52_week_low\u001b[39m\u001b[39m'\u001b[39m, \u001b[39m'\u001b[39m\u001b[39m50_day_mov_avg\u001b[39m\u001b[39m'\u001b[39m, \u001b[39m'\u001b[39m\u001b[39m200_day_mov_avg\u001b[39m\u001b[39m'\u001b[39m, \u001b[39m'\u001b[39m\u001b[39mdiv_date\u001b[39m\u001b[39m'\u001b[39m, \u001b[39m'\u001b[39m\u001b[39mex_div_date\u001b[39m\u001b[39m'\u001b[39m]\n\u001b[0;32m     <a href='vscode-notebook-cell:/e%3A/Projects/Pet%20projects/lstm_etl/etl.ipynb#X31sZmlsZQ%3D%3D?line=20'>21</a>\u001b[0m \u001b[39mprint\u001b[39m(data)\n\u001b[1;32m---> <a href='vscode-notebook-cell:/e%3A/Projects/Pet%20projects/lstm_etl/etl.ipynb#X31sZmlsZQ%3D%3D?line=21'>22</a>\u001b[0m tuple1 \u001b[39m=\u001b[39m \u001b[39mtuple\u001b[39m([data[x] \u001b[39mfor\u001b[39;00m x \u001b[39min\u001b[39;00m cols1]\u001b[39m.\u001b[39mappend[idx, idx])\n",
      "\u001b[1;32me:\\Projects\\Pet projects\\lstm_etl\\etl.ipynb Cell 22\u001b[0m line \u001b[0;36m2\n\u001b[0;32m     <a href='vscode-notebook-cell:/e%3A/Projects/Pet%20projects/lstm_etl/etl.ipynb#X31sZmlsZQ%3D%3D?line=19'>20</a>\u001b[0m cols2_db \u001b[39m=\u001b[39m [\u001b[39m'\u001b[39m\u001b[39mcompany_num_id\u001b[39m\u001b[39m'\u001b[39m, \u001b[39m'\u001b[39m\u001b[39mcompany_id\u001b[39m\u001b[39m'\u001b[39m, \u001b[39m'\u001b[39m\u001b[39mdiv_per_share\u001b[39m\u001b[39m'\u001b[39m, \u001b[39m'\u001b[39m\u001b[39mdiv_Yield\u001b[39m\u001b[39m'\u001b[39m, \u001b[39m'\u001b[39m\u001b[39m52_week_high\u001b[39m\u001b[39m'\u001b[39m, \u001b[39m'\u001b[39m\u001b[39m52_week_low\u001b[39m\u001b[39m'\u001b[39m, \u001b[39m'\u001b[39m\u001b[39m50_day_mov_avg\u001b[39m\u001b[39m'\u001b[39m, \u001b[39m'\u001b[39m\u001b[39m200_day_mov_avg\u001b[39m\u001b[39m'\u001b[39m, \u001b[39m'\u001b[39m\u001b[39mdiv_date\u001b[39m\u001b[39m'\u001b[39m, \u001b[39m'\u001b[39m\u001b[39mex_div_date\u001b[39m\u001b[39m'\u001b[39m]\n\u001b[0;32m     <a href='vscode-notebook-cell:/e%3A/Projects/Pet%20projects/lstm_etl/etl.ipynb#X31sZmlsZQ%3D%3D?line=20'>21</a>\u001b[0m \u001b[39mprint\u001b[39m(data)\n\u001b[1;32m---> <a href='vscode-notebook-cell:/e%3A/Projects/Pet%20projects/lstm_etl/etl.ipynb#X31sZmlsZQ%3D%3D?line=21'>22</a>\u001b[0m tuple1 \u001b[39m=\u001b[39m \u001b[39mtuple\u001b[39m([data[x] \u001b[39mfor\u001b[39;00m x \u001b[39min\u001b[39;00m cols1]\u001b[39m.\u001b[39mappend[idx, idx])\n",
      "\u001b[1;31mKeyError\u001b[0m: 'AssetType'"
     ]
    }
   ],
   "source": [
    "insert_companies(conn, apikey)"
   ]
  },
  {
   "cell_type": "code",
   "execution_count": null,
   "metadata": {},
   "outputs": [],
   "source": []
  }
 ],
 "metadata": {
  "kernelspec": {
   "display_name": "base",
   "language": "python",
   "name": "python3"
  },
  "language_info": {
   "codemirror_mode": {
    "name": "ipython",
    "version": 3
   },
   "file_extension": ".py",
   "mimetype": "text/x-python",
   "name": "python",
   "nbconvert_exporter": "python",
   "pygments_lexer": "ipython3",
   "version": "3.9.18"
  }
 },
 "nbformat": 4,
 "nbformat_minor": 2
}
